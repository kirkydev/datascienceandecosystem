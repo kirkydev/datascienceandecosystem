{
 "cells": [
  {
   "cell_type": "markdown",
   "id": "c0dac33e-792d-4c01-8995-cd915d82eb70",
   "metadata": {},
   "source": [
    "# Data Science and Ecosystem"
   ]
  },
  {
   "cell_type": "markdown",
   "id": "c8f12364-4a68-4e04-85c0-e7356934bede",
   "metadata": {},
   "source": [
    "In this notebook, Data Science Tools and Ecosystem are summarized."
   ]
  },
  {
   "cell_type": "markdown",
   "id": "7358a609-baf1-4f53-bf2e-54ee199764e3",
   "metadata": {},
   "source": [
    "Popular languages used by Data Scientists are:\n",
    "\n",
    "1. Python\n",
    "2. R\n",
    "3. SQL\n",
    "4. Scala\n",
    "5. Java\n",
    "6. C++\n"
   ]
  },
  {
   "cell_type": "markdown",
   "id": "763b9bee-d245-4aa3-aa8b-05a4a1afb1d1",
   "metadata": {},
   "source": [
    "Some commonly used libraries used by Data Scientists include:\n",
    "\n",
    "1. Pandas\n",
    "2. Numpy\n",
    "3. Scikit-learn\n",
    "4. Matplotlib\n",
    "5. Keras\n",
    "6. ggplot2\n"
   ]
  },
  {
   "cell_type": "markdown",
   "id": "bd50cc21-a316-4918-ae72-1c0c592bb015",
   "metadata": {},
   "source": [
    "| Data Science Tools |\n",
    "|--------------------|\n",
    "| Jupyter            |\n",
    "| RStudio            |\n",
    "| Spyder             |\n",
    " "
   ]
  },
  {
   "cell_type": "markdown",
   "id": "fa76508a-a78a-4f17-a222-fc9fee71c304",
   "metadata": {},
   "source": [
    "### A few examples of evaluating arithmetic expressions in python.\n",
    "\n",
    "25 * 10\n",
    "12 / 4\n",
    "123 + 27\n",
    "73 - 4\n",
    "2 ** 3\n",
    "5 % 2\n"
   ]
  },
  {
   "cell_type": "markdown",
   "id": "563e01f7-92f7-470e-b910-7e35a30dd8d0",
   "metadata": {},
   "source": [
    "A simple arithmetic expression to multiply ten add integers."
   ]
  },
  {
   "cell_type": "code",
   "execution_count": 1,
   "id": "ea4ba95d-47ca-4fa7-8145-29c16d3aa6f7",
   "metadata": {},
   "outputs": [
    {
     "data": {
      "text/plain": [
       "17"
      ]
     },
     "execution_count": 1,
     "metadata": {},
     "output_type": "execute_result"
    }
   ],
   "source": [
    "(3*4)+5"
   ]
  },
  {
   "cell_type": "markdown",
   "id": "52301d51-5509-4e98-8b6a-cc5702c4f1e5",
   "metadata": {},
   "source": [
    "This will convert 200 minutes to hour's by dividing by 60."
   ]
  },
  {
   "cell_type": "code",
   "execution_count": 2,
   "id": "fff6f042-c624-4871-89bc-041f8627d359",
   "metadata": {},
   "outputs": [
    {
     "data": {
      "text/plain": [
       "3.3333333333333335"
      ]
     },
     "execution_count": 2,
     "metadata": {},
     "output_type": "execute_result"
    }
   ],
   "source": [
    "200 / 60"
   ]
  },
  {
   "cell_type": "markdown",
   "id": "d71b5467-cb7c-4bb6-ba89-e947b59df762",
   "metadata": {},
   "source": [
    "**Objectives:**\n",
    "\n",
    "+ Commonly used libraries used by Data Scientists\n",
    "+ Popular languages used by Data Scientists\n",
    "+ Arithmetic Expressions"
   ]
  },
  {
   "cell_type": "markdown",
   "id": "cc68b9bd-6359-44bf-b634-0aa20b5d3b3f",
   "metadata": {},
   "source": [
    "## Author\n",
    "Stuart Kirk"
   ]
  }
 ],
 "metadata": {
  "kernelspec": {
   "display_name": "Python 3 (ipykernel)",
   "language": "python",
   "name": "python3"
  },
  "language_info": {
   "codemirror_mode": {
    "name": "ipython",
    "version": 3
   },
   "file_extension": ".py",
   "mimetype": "text/x-python",
   "name": "python",
   "nbconvert_exporter": "python",
   "pygments_lexer": "ipython3",
   "version": "3.12.8"
  }
 },
 "nbformat": 4,
 "nbformat_minor": 5
}
